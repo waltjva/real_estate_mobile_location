{
 "cells": [
  {
   "cell_type": "code",
   "execution_count": 1,
   "metadata": {},
   "outputs": [],
   "source": [
    "import numpy as np\n",
    "import pandas as pd\n",
    "import os\n",
    "import folium\n",
    "from folium import plugins\n",
    "import pygeohash as geo\n",
    "from datetime import datetime\n",
    "import calendar\n",
    "from datetime import timezone\n",
    "import datetime\n",
    "import pytz\n",
    "import geopandas as gpd"
   ]
  },
  {
   "cell_type": "code",
   "execution_count": 2,
   "metadata": {},
   "outputs": [],
   "source": [
    "def process_maps(file):\n",
    "    types = {'venue_name':'str','venue_category':'str','name':'str','poi_place_id':'str','speed':'float', 'types':'str', 'vicinity':'str','publisher_id':'str'}\n",
    "    f = '/'.join(['Final_integrated_files_fixed/DC_data',file])\n",
    "    data_orig= pd.read_csv(f,dtype=types)\n",
    "    \n",
    "    data_orig['dwell_estimated'] = data_orig['dwell_end']-data_orig['dwell_start']\n",
    "    \n",
    "    data_orig.sort_values('location_at')\n",
    "    deduped = data_orig.drop_duplicates(subset = ['advertiser_id', 'place_id_latitude', 'place_id_longitude', 'dwell_start', 'dwell_end'], keep = 'first')\n",
    "    \n",
    "    geom = gpd.read_file('Census_Data/cbg.geojson')\n",
    "    \n",
    "    geom = geom.rename({'CensusBlockGroup':'census_block_group_stop'},axis=1)\n",
    "    geom = geom[['census_block_group_stop','geometry']]\n",
    "    \n",
    "    deduped.loc[deduped.place_id_latitude.isna(),'place_id_latitude'] = deduped.loc[deduped.place_id_latitude.isna(),'latitude']\n",
    "    deduped.loc[deduped.place_id_longitude.isna(),'place_id_longitude'] = deduped.loc[deduped.place_id_longitude.isna(),'longitude']\n",
    "    \n",
    "    deduped = gpd.GeoDataFrame(deduped, geometry = gpd.points_from_xy(deduped.place_id_longitude,deduped.place_id_latitude))\n",
    "    deduped = gpd.sjoin(deduped,geom,op='within')\n",
    "    \n",
    "    #deduped = deduped.rename(columns={deduped.columns[0]: 'drop'})\n",
    "    #deduped = deduped.drop(columns = ['drop'])\n",
    "    \n",
    "    #data_orig['dwell_start_est']= pd.to_datetime(data_orig['dwell_start'],unit='s')\n",
    "    #data_orig['dwell_start_est'] = data_orig['dwell_start_est'].dt.tz_localize('UTC').dt.tz_convert('US/Eastern')\n",
    "    \n",
    "    #data_orig['month'] = pd.DatetimeIndex(data_orig['dwell_start_est']).month\n",
    "    #data_orig['day'] = pd.DatetimeIndex(data_orig['dwell_start_est']).strftime('%A')\n",
    "    #data_orig['hour']= pd.DatetimeIndex(data_orig['dwell_start_est']).hour\n",
    "    \n",
    "    census = pd.read_csv('user_list_census.csv')\n",
    "    merged = deduped.merge(census,on='advertiser_id',how='inner')\n",
    "    \n",
    "    cwd = os.getcwd()\n",
    "    path = cwd + \"/Adjusted_Location_Data/new_\" + file\n",
    "    merged.to_csv(path)"
   ]
  },
  {
   "cell_type": "code",
   "execution_count": 3,
   "metadata": {},
   "outputs": [],
   "source": [
    "def spark_process_maps(x):\n",
    "    return [process_maps(entry) for entry in x]"
   ]
  },
  {
   "cell_type": "code",
   "execution_count": 4,
   "metadata": {},
   "outputs": [],
   "source": [
    "#files = os.listdir(os.getcwd() + '/DC-i1-revised-g6-poi')\n",
    "files = os.listdir(os.getcwd() + '/Final_integrated_files_fixed/DC_data')\n",
    "files = [i for i in files]"
   ]
  },
  {
   "cell_type": "code",
   "execution_count": 5,
   "metadata": {},
   "outputs": [],
   "source": [
    "rdd =sc.parallelize(files).mapPartitions(spark_process_maps).collect()"
   ]
  }
 ],
 "metadata": {
  "kernelspec": {
   "display_name": "Python 3.8",
   "language": "python",
   "name": "python-3.8"
  },
  "language_info": {
   "codemirror_mode": {
    "name": "ipython",
    "version": 3
   },
   "file_extension": ".py",
   "mimetype": "text/x-python",
   "name": "python",
   "nbconvert_exporter": "python",
   "pygments_lexer": "ipython3",
   "version": "3.8.8"
  }
 },
 "nbformat": 4,
 "nbformat_minor": 4
}
